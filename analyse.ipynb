{
 "metadata": {
  "language_info": {
   "codemirror_mode": {
    "name": "ipython",
    "version": 3
   },
   "file_extension": ".py",
   "mimetype": "text/x-python",
   "name": "python",
   "nbconvert_exporter": "python",
   "pygments_lexer": "ipython3",
   "version": "3.8.10"
  },
  "orig_nbformat": 2,
  "kernelspec": {
   "name": "python3810jvsc74a57bd0f3809a443072b6f7612fec29cb00e3637f90e940a6bcba5ba81b5cb99d4ceb28",
   "display_name": "Python 3.8.10 64-bit ('pytorch': conda)"
  },
  "metadata": {
   "interpreter": {
    "hash": "f3809a443072b6f7612fec29cb00e3637f90e940a6bcba5ba81b5cb99d4ceb28"
   }
  }
 },
 "nbformat": 4,
 "nbformat_minor": 2,
 "cells": [
  {
   "cell_type": "code",
   "execution_count": 1,
   "metadata": {},
   "outputs": [],
   "source": [
    "import pandas as pd\n",
    "import numpy as np\n",
    "from datetime import datetime"
   ]
  },
  {
   "cell_type": "code",
   "execution_count": 2,
   "metadata": {},
   "outputs": [
    {
     "output_type": "stream",
     "name": "stdout",
     "text": [
      "<class 'pandas.core.frame.DataFrame'>\nRangeIndex: 397884 entries, 0 to 397883\nData columns (total 5 columns):\n #   Column       Non-Null Count   Dtype         \n---  ------       --------------   -----         \n 0   CustomerID   397884 non-null  int64         \n 1   Quantity     397884 non-null  int64         \n 2   InvoiceDate  397884 non-null  datetime64[ns]\n 3   UnitPrice    397884 non-null  float64       \n 4   orderAmount  397884 non-null  float64       \ndtypes: datetime64[ns](1), float64(2), int64(2)\nmemory usage: 15.2 MB\n"
     ]
    }
   ],
   "source": [
    "time_parse = lambda x:datetime.strptime(x,\"%d-%m-%Y %H:%M\")\n",
    "user_data = pd.read_csv('./data/OnlineRetail.csv',parse_dates=['InvoiceDate'],date_parser=time_parse)\n",
    "user_data = user_data.dropna(how='any',axis=0)\n",
    "index_valid_quantity = user_data['Quantity']>0 \n",
    "index_valid_price = user_data['UnitPrice']>0\n",
    "user_data['CustomerID'] = user_data['CustomerID'].astype(np.int64)\n",
    "index_valid = [all(x) for x in zip(index_valid_quantity,index_valid_price)]\n",
    "user_data = user_data[index_valid]\n",
    "user_data.reset_index(drop=True,inplace=True)\n",
    "user_data['orderAmount'] = user_data['Quantity'] * user_data['UnitPrice']\n",
    "user_data.info()"
   ]
  },
  {
   "cell_type": "code",
   "execution_count": 3,
   "metadata": {},
   "outputs": [
    {
     "output_type": "execute_result",
     "data": {
      "text/plain": [
       "                   InvoiceDate  Quantity  orderAmount            M  \\\n",
       "CustomerID                                                           \n",
       "12346      2011-01-18 10:01:00     74215     77183.60  75129.33354   \n",
       "12347      2011-12-07 15:52:00      2458      4310.00   2255.73354   \n",
       "12348      2011-09-25 13:13:00      2341      1797.24   -257.02646   \n",
       "12349      2011-11-21 09:51:00       631      1757.55   -296.71646   \n",
       "12350      2011-02-02 16:01:00       197       334.40  -1719.86646   \n",
       "...                        ...       ...          ...          ...   \n",
       "18280      2011-03-07 09:52:00        45       180.60  -1873.66646   \n",
       "18281      2011-06-12 10:53:00        54        80.82  -1973.44646   \n",
       "18282      2011-12-02 11:43:00       103       178.05  -1876.21646   \n",
       "18283      2011-12-06 12:02:00      1397      2094.88     40.61354   \n",
       "18287      2011-10-28 09:29:00      1586      1837.28   -216.98646   \n",
       "\n",
       "                       F           R  \n",
       "CustomerID                            \n",
       "12346       73023.710927  233.068045  \n",
       "12347        1266.710927  -90.175705  \n",
       "12348        1149.710927  -17.065289  \n",
       "12349        -560.289073  -73.925011  \n",
       "12350        -994.289073  217.818045  \n",
       "...                  ...         ...  \n",
       "18280       -1146.289073  185.074295  \n",
       "18281       -1137.289073   88.031933  \n",
       "18282       -1088.289073  -85.002789  \n",
       "18283         205.710927  -89.015983  \n",
       "18287         394.710927  -49.909733  \n",
       "\n",
       "[4338 rows x 6 columns]"
      ],
      "text/html": "<div>\n<style scoped>\n    .dataframe tbody tr th:only-of-type {\n        vertical-align: middle;\n    }\n\n    .dataframe tbody tr th {\n        vertical-align: top;\n    }\n\n    .dataframe thead th {\n        text-align: right;\n    }\n</style>\n<table border=\"1\" class=\"dataframe\">\n  <thead>\n    <tr style=\"text-align: right;\">\n      <th></th>\n      <th>InvoiceDate</th>\n      <th>Quantity</th>\n      <th>orderAmount</th>\n      <th>M</th>\n      <th>F</th>\n      <th>R</th>\n    </tr>\n    <tr>\n      <th>CustomerID</th>\n      <th></th>\n      <th></th>\n      <th></th>\n      <th></th>\n      <th></th>\n      <th></th>\n    </tr>\n  </thead>\n  <tbody>\n    <tr>\n      <th>12346</th>\n      <td>2011-01-18 10:01:00</td>\n      <td>74215</td>\n      <td>77183.60</td>\n      <td>75129.33354</td>\n      <td>73023.710927</td>\n      <td>233.068045</td>\n    </tr>\n    <tr>\n      <th>12347</th>\n      <td>2011-12-07 15:52:00</td>\n      <td>2458</td>\n      <td>4310.00</td>\n      <td>2255.73354</td>\n      <td>1266.710927</td>\n      <td>-90.175705</td>\n    </tr>\n    <tr>\n      <th>12348</th>\n      <td>2011-09-25 13:13:00</td>\n      <td>2341</td>\n      <td>1797.24</td>\n      <td>-257.02646</td>\n      <td>1149.710927</td>\n      <td>-17.065289</td>\n    </tr>\n    <tr>\n      <th>12349</th>\n      <td>2011-11-21 09:51:00</td>\n      <td>631</td>\n      <td>1757.55</td>\n      <td>-296.71646</td>\n      <td>-560.289073</td>\n      <td>-73.925011</td>\n    </tr>\n    <tr>\n      <th>12350</th>\n      <td>2011-02-02 16:01:00</td>\n      <td>197</td>\n      <td>334.40</td>\n      <td>-1719.86646</td>\n      <td>-994.289073</td>\n      <td>217.818045</td>\n    </tr>\n    <tr>\n      <th>...</th>\n      <td>...</td>\n      <td>...</td>\n      <td>...</td>\n      <td>...</td>\n      <td>...</td>\n      <td>...</td>\n    </tr>\n    <tr>\n      <th>18280</th>\n      <td>2011-03-07 09:52:00</td>\n      <td>45</td>\n      <td>180.60</td>\n      <td>-1873.66646</td>\n      <td>-1146.289073</td>\n      <td>185.074295</td>\n    </tr>\n    <tr>\n      <th>18281</th>\n      <td>2011-06-12 10:53:00</td>\n      <td>54</td>\n      <td>80.82</td>\n      <td>-1973.44646</td>\n      <td>-1137.289073</td>\n      <td>88.031933</td>\n    </tr>\n    <tr>\n      <th>18282</th>\n      <td>2011-12-02 11:43:00</td>\n      <td>103</td>\n      <td>178.05</td>\n      <td>-1876.21646</td>\n      <td>-1088.289073</td>\n      <td>-85.002789</td>\n    </tr>\n    <tr>\n      <th>18283</th>\n      <td>2011-12-06 12:02:00</td>\n      <td>1397</td>\n      <td>2094.88</td>\n      <td>40.61354</td>\n      <td>205.710927</td>\n      <td>-89.015983</td>\n    </tr>\n    <tr>\n      <th>18287</th>\n      <td>2011-10-28 09:29:00</td>\n      <td>1586</td>\n      <td>1837.28</td>\n      <td>-216.98646</td>\n      <td>394.710927</td>\n      <td>-49.909733</td>\n    </tr>\n  </tbody>\n</table>\n<p>4338 rows × 6 columns</p>\n</div>"
     },
     "metadata": {},
     "execution_count": 3
    }
   ],
   "source": [
    "user_pivot = user_data.pivot_table(index='CustomerID',aggfunc={\n",
    "    'Quantity':'sum',\n",
    "    'InvoiceDate':'max',\n",
    "    'orderAmount':'sum'\n",
    "})\n",
    "date_now = user_pivot['InvoiceDate'].max()\n",
    "date_gap_mean = date_now - user_pivot['InvoiceDate'].mean()\n",
    "quantity_mean = user_pivot['Quantity'].mean()\n",
    "order_amount_mean = user_pivot['orderAmount'].mean()\n",
    "user_pivot['M'] = user_pivot['orderAmount'] - order_amount_mean\n",
    "user_pivot['F'] = user_pivot['Quantity'] - quantity_mean\n",
    "user_pivot['R'] = (date_now - user_pivot['InvoiceDate'] - date_gap_mean)/np.timedelta64(1,'D')\n",
    "user_pivot"
   ]
  },
  {
   "cell_type": "code",
   "execution_count": 4,
   "metadata": {},
   "outputs": [
    {
     "output_type": "stream",
     "name": "stderr",
     "text": [
      "<ipython-input-4-0cc08682ee0a>:16: SettingWithCopyWarning: \nA value is trying to be set on a copy of a slice from a DataFrame.\nTry using .loc[row_indexer,col_indexer] = value instead\n\nSee the caveats in the documentation: https://pandas.pydata.org/pandas-docs/stable/user_guide/indexing.html#returning-a-view-versus-a-copy\n  RFM['label'] = RFM.apply(add_label,axis=1)\n"
     ]
    },
    {
     "output_type": "execute_result",
     "data": {
      "text/plain": [
       "                     R             F            M   label\n",
       "CustomerID                                               \n",
       "12346       233.068045  73023.710927  75129.33354  重要价值客户\n",
       "12347       -90.175705   1266.710927   2255.73354  重要保持客户\n",
       "12348       -17.065289   1149.710927   -257.02646  一般保持客户\n",
       "12349       -73.925011   -560.289073   -296.71646  一般发展客户\n",
       "12350       217.818045   -994.289073  -1719.86646  一般挽留客户\n",
       "...                ...           ...          ...     ...\n",
       "18280       185.074295  -1146.289073  -1873.66646  一般挽留客户\n",
       "18281        88.031933  -1137.289073  -1973.44646  一般挽留客户\n",
       "18282       -85.002789  -1088.289073  -1876.21646  一般发展客户\n",
       "18283       -89.015983    205.710927     40.61354  重要保持客户\n",
       "18287       -49.909733    394.710927   -216.98646  一般保持客户\n",
       "\n",
       "[4338 rows x 4 columns]"
      ],
      "text/html": "<div>\n<style scoped>\n    .dataframe tbody tr th:only-of-type {\n        vertical-align: middle;\n    }\n\n    .dataframe tbody tr th {\n        vertical-align: top;\n    }\n\n    .dataframe thead th {\n        text-align: right;\n    }\n</style>\n<table border=\"1\" class=\"dataframe\">\n  <thead>\n    <tr style=\"text-align: right;\">\n      <th></th>\n      <th>R</th>\n      <th>F</th>\n      <th>M</th>\n      <th>label</th>\n    </tr>\n    <tr>\n      <th>CustomerID</th>\n      <th></th>\n      <th></th>\n      <th></th>\n      <th></th>\n    </tr>\n  </thead>\n  <tbody>\n    <tr>\n      <th>12346</th>\n      <td>233.068045</td>\n      <td>73023.710927</td>\n      <td>75129.33354</td>\n      <td>重要价值客户</td>\n    </tr>\n    <tr>\n      <th>12347</th>\n      <td>-90.175705</td>\n      <td>1266.710927</td>\n      <td>2255.73354</td>\n      <td>重要保持客户</td>\n    </tr>\n    <tr>\n      <th>12348</th>\n      <td>-17.065289</td>\n      <td>1149.710927</td>\n      <td>-257.02646</td>\n      <td>一般保持客户</td>\n    </tr>\n    <tr>\n      <th>12349</th>\n      <td>-73.925011</td>\n      <td>-560.289073</td>\n      <td>-296.71646</td>\n      <td>一般发展客户</td>\n    </tr>\n    <tr>\n      <th>12350</th>\n      <td>217.818045</td>\n      <td>-994.289073</td>\n      <td>-1719.86646</td>\n      <td>一般挽留客户</td>\n    </tr>\n    <tr>\n      <th>...</th>\n      <td>...</td>\n      <td>...</td>\n      <td>...</td>\n      <td>...</td>\n    </tr>\n    <tr>\n      <th>18280</th>\n      <td>185.074295</td>\n      <td>-1146.289073</td>\n      <td>-1873.66646</td>\n      <td>一般挽留客户</td>\n    </tr>\n    <tr>\n      <th>18281</th>\n      <td>88.031933</td>\n      <td>-1137.289073</td>\n      <td>-1973.44646</td>\n      <td>一般挽留客户</td>\n    </tr>\n    <tr>\n      <th>18282</th>\n      <td>-85.002789</td>\n      <td>-1088.289073</td>\n      <td>-1876.21646</td>\n      <td>一般发展客户</td>\n    </tr>\n    <tr>\n      <th>18283</th>\n      <td>-89.015983</td>\n      <td>205.710927</td>\n      <td>40.61354</td>\n      <td>重要保持客户</td>\n    </tr>\n    <tr>\n      <th>18287</th>\n      <td>-49.909733</td>\n      <td>394.710927</td>\n      <td>-216.98646</td>\n      <td>一般保持客户</td>\n    </tr>\n  </tbody>\n</table>\n<p>4338 rows × 4 columns</p>\n</div>"
     },
     "metadata": {},
     "execution_count": 4
    }
   ],
   "source": [
    "value_map = {\n",
    "    '111':'重要价值客户',\n",
    "    '011':'重要保持客户',\n",
    "    '101':'重要挽留客户',\n",
    "    '001':'重要发展客户',\n",
    "    '110':'一般价值客户',\n",
    "    '010':'一般保持客户',\n",
    "    '100':'一般挽留客户',\n",
    "    '000':'一般发展客户'\n",
    "}\n",
    "def add_label(x):\n",
    "    level = x.map(lambda x : '1' if x >= 0 else '0')\n",
    "    label = level.R + level.F + level.M\n",
    "    return value_map[label]\n",
    "RFM = user_pivot[['R','F','M']]\n",
    "RFM['label'] = RFM.apply(add_label,axis=1)\n",
    "RFM.to_csv('./data/RFMTable.csv')\n",
    "RFM"
   ]
  }
 ]
}