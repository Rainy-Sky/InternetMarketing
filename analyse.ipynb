{
 "metadata": {
  "language_info": {
   "codemirror_mode": {
    "name": "ipython",
    "version": 3
   },
   "file_extension": ".py",
   "mimetype": "text/x-python",
   "name": "python",
   "nbconvert_exporter": "python",
   "pygments_lexer": "ipython3",
   "version": "3.7.9"
  },
  "orig_nbformat": 2,
  "kernelspec": {
   "name": "python3",
   "display_name": "Python 3.7.9 64-bit ('tensorflow': conda)"
  },
  "metadata": {
   "interpreter": {
    "hash": "f3809a443072b6f7612fec29cb00e3637f90e940a6bcba5ba81b5cb99d4ceb28"
   }
  },
  "interpreter": {
   "hash": "17a4f45de6685bf2d7d98c34a7ba04dade22de544eeee89dbc392458e8a9b46d"
  }
 },
 "nbformat": 4,
 "nbformat_minor": 2,
 "cells": [
  {
   "cell_type": "code",
   "execution_count": 1,
   "metadata": {},
   "outputs": [],
   "source": [
    "import pandas as pd\n",
    "import numpy as np\n",
    "from datetime import datetime"
   ]
  },
  {
   "cell_type": "code",
   "execution_count": 2,
   "metadata": {},
   "outputs": [
    {
     "output_type": "stream",
     "name": "stdout",
     "text": [
      "<class 'pandas.core.frame.DataFrame'>\nRangeIndex: 406829 entries, 0 to 406828\nData columns (total 5 columns):\n #   Column       Non-Null Count   Dtype         \n---  ------       --------------   -----         \n 0   CustomerID   406829 non-null  int64         \n 1   Quantity     406829 non-null  int64         \n 2   InvoiceDate  406829 non-null  datetime64[ns]\n 3   UnitPrice    406829 non-null  float64       \n 4   orderAmount  406829 non-null  float64       \ndtypes: datetime64[ns](1), float64(2), int64(2)\nmemory usage: 15.5 MB\n"
     ]
    }
   ],
   "source": [
    "# 是否将数量的负值认为是退款\n",
    "allow_refund = True\n",
    "time_parse = lambda x:datetime.strptime(x,\"%d-%m-%Y %H:%M\")\n",
    "user_data = pd.read_csv('./data/OnlineRetail.csv',parse_dates=['InvoiceDate'],date_parser=time_parse)\n",
    "user_data = user_data.dropna(how='any',axis=0)\n",
    "# 筛选出数量大于0 价格大于等于0的条目索引\n",
    "index_valid_quantity = user_data['Quantity']>0 \n",
    "index_valid_price = user_data['UnitPrice']>=0\n",
    "user_data['CustomerID'] = user_data['CustomerID'].astype(np.int64)\n",
    "if allow_refund == True:\n",
    "    index_valid = index_valid_price\n",
    "else:\n",
    "    index_valid = [all(x) for x in zip(index_valid_quantity,index_valid_price)]\n",
    "# 清洗数据取出有效的数据\n",
    "user_data = user_data[index_valid]\n",
    "user_data.reset_index(drop=True,inplace=True)\n",
    "# 派生订单总额列 将数值设置为单价与数量的乘积\n",
    "user_data['orderAmount'] = user_data['Quantity'] * user_data['UnitPrice']\n",
    "user_data.info()"
   ]
  },
  {
   "cell_type": "code",
   "execution_count": 3,
   "metadata": {},
   "outputs": [
    {
     "output_type": "execute_result",
     "data": {
      "text/plain": [
       "                   InvoiceDate  Quantity  orderAmount            M  \\\n",
       "CustomerID                                                           \n",
       "12346      2011-01-18 10:17:00         0         0.00 -1898.459701   \n",
       "12347      2011-12-07 15:52:00      2458      4310.00  2411.540299   \n",
       "12348      2011-09-25 13:13:00      2341      1797.24  -101.219701   \n",
       "12349      2011-11-21 09:51:00       631      1757.55  -140.909701   \n",
       "12350      2011-02-02 16:01:00       197       334.40 -1564.059701   \n",
       "...                        ...       ...          ...          ...   \n",
       "18280      2011-03-07 09:52:00        45       180.60 -1717.859701   \n",
       "18281      2011-06-12 10:53:00        54        80.82 -1817.639701   \n",
       "18282      2011-12-02 11:43:00        98       176.60 -1721.859701   \n",
       "18283      2011-12-06 12:02:00      1397      2094.88   196.420299   \n",
       "18287      2011-10-28 09:29:00      1586      1837.28   -61.179701   \n",
       "\n",
       "                      F           R  \n",
       "CustomerID                           \n",
       "12346      -1122.344007  233.538272  \n",
       "12347       1335.655993  -89.694367  \n",
       "12348       1218.655993  -16.583950  \n",
       "12349       -491.344007  -73.443672  \n",
       "12350       -925.344007  218.299383  \n",
       "...                 ...         ...  \n",
       "18280      -1077.344007  185.555633  \n",
       "18281      -1068.344007   88.513272  \n",
       "18282      -1024.344007  -84.521450  \n",
       "18283        274.655993  -88.534645  \n",
       "18287        463.655993  -49.428395  \n",
       "\n",
       "[4372 rows x 6 columns]"
      ],
      "text/html": "<div>\n<style scoped>\n    .dataframe tbody tr th:only-of-type {\n        vertical-align: middle;\n    }\n\n    .dataframe tbody tr th {\n        vertical-align: top;\n    }\n\n    .dataframe thead th {\n        text-align: right;\n    }\n</style>\n<table border=\"1\" class=\"dataframe\">\n  <thead>\n    <tr style=\"text-align: right;\">\n      <th></th>\n      <th>InvoiceDate</th>\n      <th>Quantity</th>\n      <th>orderAmount</th>\n      <th>M</th>\n      <th>F</th>\n      <th>R</th>\n    </tr>\n    <tr>\n      <th>CustomerID</th>\n      <th></th>\n      <th></th>\n      <th></th>\n      <th></th>\n      <th></th>\n      <th></th>\n    </tr>\n  </thead>\n  <tbody>\n    <tr>\n      <th>12346</th>\n      <td>2011-01-18 10:17:00</td>\n      <td>0</td>\n      <td>0.00</td>\n      <td>-1898.459701</td>\n      <td>-1122.344007</td>\n      <td>233.538272</td>\n    </tr>\n    <tr>\n      <th>12347</th>\n      <td>2011-12-07 15:52:00</td>\n      <td>2458</td>\n      <td>4310.00</td>\n      <td>2411.540299</td>\n      <td>1335.655993</td>\n      <td>-89.694367</td>\n    </tr>\n    <tr>\n      <th>12348</th>\n      <td>2011-09-25 13:13:00</td>\n      <td>2341</td>\n      <td>1797.24</td>\n      <td>-101.219701</td>\n      <td>1218.655993</td>\n      <td>-16.583950</td>\n    </tr>\n    <tr>\n      <th>12349</th>\n      <td>2011-11-21 09:51:00</td>\n      <td>631</td>\n      <td>1757.55</td>\n      <td>-140.909701</td>\n      <td>-491.344007</td>\n      <td>-73.443672</td>\n    </tr>\n    <tr>\n      <th>12350</th>\n      <td>2011-02-02 16:01:00</td>\n      <td>197</td>\n      <td>334.40</td>\n      <td>-1564.059701</td>\n      <td>-925.344007</td>\n      <td>218.299383</td>\n    </tr>\n    <tr>\n      <th>...</th>\n      <td>...</td>\n      <td>...</td>\n      <td>...</td>\n      <td>...</td>\n      <td>...</td>\n      <td>...</td>\n    </tr>\n    <tr>\n      <th>18280</th>\n      <td>2011-03-07 09:52:00</td>\n      <td>45</td>\n      <td>180.60</td>\n      <td>-1717.859701</td>\n      <td>-1077.344007</td>\n      <td>185.555633</td>\n    </tr>\n    <tr>\n      <th>18281</th>\n      <td>2011-06-12 10:53:00</td>\n      <td>54</td>\n      <td>80.82</td>\n      <td>-1817.639701</td>\n      <td>-1068.344007</td>\n      <td>88.513272</td>\n    </tr>\n    <tr>\n      <th>18282</th>\n      <td>2011-12-02 11:43:00</td>\n      <td>98</td>\n      <td>176.60</td>\n      <td>-1721.859701</td>\n      <td>-1024.344007</td>\n      <td>-84.521450</td>\n    </tr>\n    <tr>\n      <th>18283</th>\n      <td>2011-12-06 12:02:00</td>\n      <td>1397</td>\n      <td>2094.88</td>\n      <td>196.420299</td>\n      <td>274.655993</td>\n      <td>-88.534645</td>\n    </tr>\n    <tr>\n      <th>18287</th>\n      <td>2011-10-28 09:29:00</td>\n      <td>1586</td>\n      <td>1837.28</td>\n      <td>-61.179701</td>\n      <td>463.655993</td>\n      <td>-49.428395</td>\n    </tr>\n  </tbody>\n</table>\n<p>4372 rows × 6 columns</p>\n</div>"
     },
     "metadata": {},
     "execution_count": 3
    }
   ],
   "source": [
    "# 将用户ID作为索引创建透视表\n",
    "user_pivot = user_data.pivot_table(index='CustomerID',aggfunc={\n",
    "    'Quantity':'sum',\n",
    "    'InvoiceDate':'max',\n",
    "    'orderAmount':'sum'\n",
    "})\n",
    "# 取出日期中的最大值\n",
    "date_now = user_pivot['InvoiceDate'].max()\n",
    "# 计算日期中最大值与日期平均值的差\n",
    "date_gap_mean = date_now - user_pivot['InvoiceDate'].mean()\n",
    "# 计算购买数量的平均值\n",
    "quantity_mean = user_pivot['Quantity'].mean()\n",
    "# 计算购买总额的平均值\n",
    "order_amount_mean = user_pivot['orderAmount'].mean()\n",
    "# 将数据中数值与对应列的平均值做差作为M（总额）F（频率）R（最近购买）的数值\n",
    "user_pivot['M'] = user_pivot['orderAmount'] - order_amount_mean\n",
    "user_pivot['F'] = user_pivot['Quantity'] - quantity_mean\n",
    "user_pivot['R'] = (date_now - user_pivot['InvoiceDate'] - date_gap_mean)/np.timedelta64(1,'D')\n",
    "user_pivot"
   ]
  },
  {
   "cell_type": "code",
   "execution_count": 4,
   "metadata": {},
   "outputs": [
    {
     "output_type": "stream",
     "name": "stderr",
     "text": [
      "D:\\Anaconda\\envs\\tensorflow\\lib\\site-packages\\ipykernel_launcher.py:16: SettingWithCopyWarning: \nA value is trying to be set on a copy of a slice from a DataFrame.\nTry using .loc[row_indexer,col_indexer] = value instead\n\nSee the caveats in the documentation: https://pandas.pydata.org/pandas-docs/stable/user_guide/indexing.html#returning-a-view-versus-a-copy\n  app.launch_new_instance()\n"
     ]
    },
    {
     "output_type": "execute_result",
     "data": {
      "text/plain": [
       "                     R            F            M   label\n",
       "CustomerID                                              \n",
       "12346       233.538272 -1122.344007 -1898.459701  一般挽留客户\n",
       "12347       -89.694367  1335.655993  2411.540299  重要保持客户\n",
       "12348       -16.583950  1218.655993  -101.219701  一般保持客户\n",
       "12349       -73.443672  -491.344007  -140.909701  一般发展客户\n",
       "12350       218.299383  -925.344007 -1564.059701  一般挽留客户\n",
       "...                ...          ...          ...     ...\n",
       "18280       185.555633 -1077.344007 -1717.859701  一般挽留客户\n",
       "18281        88.513272 -1068.344007 -1817.639701  一般挽留客户\n",
       "18282       -84.521450 -1024.344007 -1721.859701  一般发展客户\n",
       "18283       -88.534645   274.655993   196.420299  重要保持客户\n",
       "18287       -49.428395   463.655993   -61.179701  一般保持客户\n",
       "\n",
       "[4372 rows x 4 columns]"
      ],
      "text/html": "<div>\n<style scoped>\n    .dataframe tbody tr th:only-of-type {\n        vertical-align: middle;\n    }\n\n    .dataframe tbody tr th {\n        vertical-align: top;\n    }\n\n    .dataframe thead th {\n        text-align: right;\n    }\n</style>\n<table border=\"1\" class=\"dataframe\">\n  <thead>\n    <tr style=\"text-align: right;\">\n      <th></th>\n      <th>R</th>\n      <th>F</th>\n      <th>M</th>\n      <th>label</th>\n    </tr>\n    <tr>\n      <th>CustomerID</th>\n      <th></th>\n      <th></th>\n      <th></th>\n      <th></th>\n    </tr>\n  </thead>\n  <tbody>\n    <tr>\n      <th>12346</th>\n      <td>233.538272</td>\n      <td>-1122.344007</td>\n      <td>-1898.459701</td>\n      <td>一般挽留客户</td>\n    </tr>\n    <tr>\n      <th>12347</th>\n      <td>-89.694367</td>\n      <td>1335.655993</td>\n      <td>2411.540299</td>\n      <td>重要保持客户</td>\n    </tr>\n    <tr>\n      <th>12348</th>\n      <td>-16.583950</td>\n      <td>1218.655993</td>\n      <td>-101.219701</td>\n      <td>一般保持客户</td>\n    </tr>\n    <tr>\n      <th>12349</th>\n      <td>-73.443672</td>\n      <td>-491.344007</td>\n      <td>-140.909701</td>\n      <td>一般发展客户</td>\n    </tr>\n    <tr>\n      <th>12350</th>\n      <td>218.299383</td>\n      <td>-925.344007</td>\n      <td>-1564.059701</td>\n      <td>一般挽留客户</td>\n    </tr>\n    <tr>\n      <th>...</th>\n      <td>...</td>\n      <td>...</td>\n      <td>...</td>\n      <td>...</td>\n    </tr>\n    <tr>\n      <th>18280</th>\n      <td>185.555633</td>\n      <td>-1077.344007</td>\n      <td>-1717.859701</td>\n      <td>一般挽留客户</td>\n    </tr>\n    <tr>\n      <th>18281</th>\n      <td>88.513272</td>\n      <td>-1068.344007</td>\n      <td>-1817.639701</td>\n      <td>一般挽留客户</td>\n    </tr>\n    <tr>\n      <th>18282</th>\n      <td>-84.521450</td>\n      <td>-1024.344007</td>\n      <td>-1721.859701</td>\n      <td>一般发展客户</td>\n    </tr>\n    <tr>\n      <th>18283</th>\n      <td>-88.534645</td>\n      <td>274.655993</td>\n      <td>196.420299</td>\n      <td>重要保持客户</td>\n    </tr>\n    <tr>\n      <th>18287</th>\n      <td>-49.428395</td>\n      <td>463.655993</td>\n      <td>-61.179701</td>\n      <td>一般保持客户</td>\n    </tr>\n  </tbody>\n</table>\n<p>4372 rows × 4 columns</p>\n</div>"
     },
     "metadata": {},
     "execution_count": 4
    }
   ],
   "source": [
    "#　RFM字符串与用户标签映射关系\n",
    "value_map = {\n",
    "    '111':'重要价值客户',\n",
    "    '011':'重要保持客户',\n",
    "    '101':'重要挽留客户',\n",
    "    '001':'重要发展客户',\n",
    "    '110':'一般价值客户',\n",
    "    '010':'一般保持客户',\n",
    "    '100':'一般挽留客户',\n",
    "    '000':'一般发展客户'\n",
    "}\n",
    "# RFM的值大于等于0则映射到1，否则为0，将RFM字符串拼接，并通过映射关系得到用户标签\n",
    "def add_label(x):\n",
    "    level = x.map(lambda x : '1' if x >= 0 else '0')\n",
    "    label = level.R + level.F + level.M\n",
    "    return value_map[label]\n",
    "RFM = user_pivot[['R','F','M']]\n",
    "RFM['label'] = RFM.apply(add_label,axis=1)\n",
    "RFM"
   ]
  },
  {
   "cell_type": "code",
   "execution_count": 7,
   "metadata": {},
   "outputs": [
    {
     "output_type": "execute_result",
     "data": {
      "text/plain": [
       "label\n",
       "一般价值客户      22\n",
       "一般保持客户     131\n",
       "一般发展客户    1945\n",
       "一般挽留客户    1353\n",
       "重要价值客户      53\n",
       "重要保持客户     742\n",
       "重要发展客户     109\n",
       "重要挽留客户      17\n",
       "dtype: int64"
      ]
     },
     "metadata": {},
     "execution_count": 7
    }
   ],
   "source": [
    "RFM.groupby(\"label\").size()"
   ]
  },
  {
   "cell_type": "code",
   "execution_count": null,
   "metadata": {},
   "outputs": [],
   "source": []
  }
 ]
}